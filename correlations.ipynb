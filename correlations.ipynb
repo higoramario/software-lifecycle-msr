{
 "cells": [
  {
   "cell_type": "markdown",
   "id": "50395a14",
   "metadata": {},
   "source": [
    "# Pegando dados"
   ]
  },
  {
   "cell_type": "code",
   "execution_count": 24,
   "id": "7ad06a78",
   "metadata": {},
   "outputs": [],
   "source": [
    "import pandas as pd\n",
    "# Esse próximo CSV é criado no notebook \"Juntando Commits e Trends\"\n",
    "data = pd.read_csv(\"CSV/all_relations.csv\", index_col = 0)"
   ]
  },
  {
   "cell_type": "code",
   "execution_count": 25,
   "id": "463b674f",
   "metadata": {},
   "outputs": [
    {
     "data": {
      "text/html": [
       "<div>\n",
       "<style scoped>\n",
       "    .dataframe tbody tr th:only-of-type {\n",
       "        vertical-align: middle;\n",
       "    }\n",
       "\n",
       "    .dataframe tbody tr th {\n",
       "        vertical-align: top;\n",
       "    }\n",
       "\n",
       "    .dataframe thead th {\n",
       "        text-align: right;\n",
       "    }\n",
       "</style>\n",
       "<table border=\"1\" class=\"dataframe\">\n",
       "  <thead>\n",
       "    <tr style=\"text-align: right;\">\n",
       "      <th></th>\n",
       "      <th>commit_date</th>\n",
       "      <th>project</th>\n",
       "      <th>qt_commit</th>\n",
       "      <th>qt_author</th>\n",
       "      <th>relative_interest</th>\n",
       "    </tr>\n",
       "  </thead>\n",
       "  <tbody>\n",
       "    <tr>\n",
       "      <th>12499</th>\n",
       "      <td>2014-07-29</td>\n",
       "      <td>CNTK</td>\n",
       "      <td>1</td>\n",
       "      <td>1</td>\n",
       "      <td>NaN</td>\n",
       "    </tr>\n",
       "    <tr>\n",
       "      <th>12505</th>\n",
       "      <td>2014-08-29</td>\n",
       "      <td>CNTK</td>\n",
       "      <td>1</td>\n",
       "      <td>1</td>\n",
       "      <td>NaN</td>\n",
       "    </tr>\n",
       "    <tr>\n",
       "      <th>12658</th>\n",
       "      <td>2014-08-31</td>\n",
       "      <td>CNTK</td>\n",
       "      <td>1</td>\n",
       "      <td>1</td>\n",
       "      <td>NaN</td>\n",
       "    </tr>\n",
       "    <tr>\n",
       "      <th>6998</th>\n",
       "      <td>2014-09-01</td>\n",
       "      <td>CNTK</td>\n",
       "      <td>1</td>\n",
       "      <td>1</td>\n",
       "      <td>NaN</td>\n",
       "    </tr>\n",
       "    <tr>\n",
       "      <th>10009</th>\n",
       "      <td>2014-09-02</td>\n",
       "      <td>CNTK</td>\n",
       "      <td>1</td>\n",
       "      <td>1</td>\n",
       "      <td>NaN</td>\n",
       "    </tr>\n",
       "    <tr>\n",
       "      <th>...</th>\n",
       "      <td>...</td>\n",
       "      <td>...</td>\n",
       "      <td>...</td>\n",
       "      <td>...</td>\n",
       "      <td>...</td>\n",
       "    </tr>\n",
       "    <tr>\n",
       "      <th>3324</th>\n",
       "      <td>2023-04-01</td>\n",
       "      <td>zaproxy</td>\n",
       "      <td>26</td>\n",
       "      <td>8</td>\n",
       "      <td>7.0</td>\n",
       "    </tr>\n",
       "    <tr>\n",
       "      <th>4185</th>\n",
       "      <td>2023-05-01</td>\n",
       "      <td>zaproxy</td>\n",
       "      <td>48</td>\n",
       "      <td>8</td>\n",
       "      <td>7.0</td>\n",
       "    </tr>\n",
       "    <tr>\n",
       "      <th>5031</th>\n",
       "      <td>2023-06-01</td>\n",
       "      <td>zaproxy</td>\n",
       "      <td>40</td>\n",
       "      <td>5</td>\n",
       "      <td>5.0</td>\n",
       "    </tr>\n",
       "    <tr>\n",
       "      <th>5878</th>\n",
       "      <td>2023-07-01</td>\n",
       "      <td>zaproxy</td>\n",
       "      <td>60</td>\n",
       "      <td>5</td>\n",
       "      <td>4.0</td>\n",
       "    </tr>\n",
       "    <tr>\n",
       "      <th>6718</th>\n",
       "      <td>2023-08-01</td>\n",
       "      <td>zaproxy</td>\n",
       "      <td>64</td>\n",
       "      <td>8</td>\n",
       "      <td>5.0</td>\n",
       "    </tr>\n",
       "  </tbody>\n",
       "</table>\n",
       "<p>12662 rows × 5 columns</p>\n",
       "</div>"
      ],
      "text/plain": [
       "      commit_date  project  qt_commit  qt_author  relative_interest\n",
       "12499  2014-07-29     CNTK          1          1                NaN\n",
       "12505  2014-08-29     CNTK          1          1                NaN\n",
       "12658  2014-08-31     CNTK          1          1                NaN\n",
       "6998   2014-09-01     CNTK          1          1                NaN\n",
       "10009  2014-09-02     CNTK          1          1                NaN\n",
       "...           ...      ...        ...        ...                ...\n",
       "3324   2023-04-01  zaproxy         26          8                7.0\n",
       "4185   2023-05-01  zaproxy         48          8                7.0\n",
       "5031   2023-06-01  zaproxy         40          5                5.0\n",
       "5878   2023-07-01  zaproxy         60          5                4.0\n",
       "6718   2023-08-01  zaproxy         64          8                5.0\n",
       "\n",
       "[12662 rows x 5 columns]"
      ]
     },
     "execution_count": 25,
     "metadata": {},
     "output_type": "execute_result"
    }
   ],
   "source": [
    "data"
   ]
  },
  {
   "cell_type": "markdown",
   "id": "7bc75616",
   "metadata": {},
   "source": [
    "### Suavizando gráfico com média móvel"
   ]
  },
  {
   "cell_type": "code",
   "execution_count": 26,
   "id": "2b6ebe34",
   "metadata": {},
   "outputs": [],
   "source": [
    "window_size = 12\n",
    "data['smoothed_qt_commit'] = data.groupby('project')['qt_commit'].transform(lambda x: x.rolling(window=window_size, min_periods = 2).mean())\n",
    "data['smoothed_qt_author'] = data.groupby('project')['qt_author'].transform(lambda x: x.rolling(window=window_size, min_periods = 2).mean())\n",
    "data['smoothed_relative_interest'] = data.groupby('project')['relative_interest'].transform(lambda x: x.rolling(window=window_size, min_periods = 2).mean())"
   ]
  },
  {
   "cell_type": "markdown",
   "id": "738ec952",
   "metadata": {},
   "source": [
    "# Visualização"
   ]
  },
  {
   "cell_type": "markdown",
   "id": "27b5a2e7",
   "metadata": {},
   "source": [
    "## Commit / Interesse Relativo"
   ]
  },
  {
   "cell_type": "markdown",
   "id": "7e0123be",
   "metadata": {},
   "source": [
    "### Spearman"
   ]
  },
  {
   "cell_type": "code",
   "execution_count": 4,
   "id": "730f3785",
   "metadata": {},
   "outputs": [
    {
     "data": {
      "application/vnd.jupyter.widget-view+json": {
       "model_id": "44472760dbf14b4ea8e94177259797cc",
       "version_major": 2,
       "version_minor": 0
      },
      "text/plain": [
       "interactive(children=(SelectMultiple(description='Projetos', index=(0, 1, 2, 3, 4, 5, 6, 7, 8, 9, 10, 11, 12, …"
      ]
     },
     "metadata": {},
     "output_type": "display_data"
    },
    {
     "data": {
      "text/plain": [
       "<function __main__.update_plot(project_list)>"
      ]
     },
     "execution_count": 4,
     "metadata": {},
     "output_type": "execute_result"
    }
   ],
   "source": [
    "import matplotlib.pyplot as plt\n",
    "import matplotlib.dates as mdates\n",
    "import pandas as pd\n",
    "import seaborn as sns\n",
    "from ipywidgets import interact, widgets\n",
    "\n",
    "correlation_spearman = data.groupby('project')[['smoothed_qt_commit', 'smoothed_relative_interest']].corr(method=\"spearman\").iloc[0::2,-1].reset_index().rename(columns= {\"smoothed_relative_interest\": \"spearman (commit/trends)\"}).drop(columns= {\"level_1\"})\n",
    "\n",
    "def update_plot(project_list):\n",
    "    plt.figure(figsize=(10, 5))\n",
    "\n",
    "    for project in project_list:\n",
    "        data = correlation_spearman[correlation_spearman[\"project\"] == project]\n",
    "        sns.scatterplot(x=data['project'], y=data['spearman (commit/trends)'])\n",
    "        plt.axvline(project, color='gray', linestyle='--', linewidth=0.5)\n",
    "\n",
    "    plt.xlabel('Projeto')\n",
    "    plt.ylabel('Correlação de Spearman')\n",
    "    plt.title('Correlação de Spearman por Commit/Interesse Relativo')\n",
    "    plt.xticks(rotation=90)\n",
    "    plt.tight_layout()\n",
    "    plt.show()\n",
    "\n",
    "project_options = correlation_spearman['project'].unique()\n",
    "\n",
    "initial_value = tuple(project_options)\n",
    "\n",
    "project_selector = widgets.SelectMultiple(\n",
    "    options=project_options,\n",
    "    value=initial_value,\n",
    "    description='Projetos'\n",
    ")\n",
    "\n",
    "interact(update_plot, project_list=project_selector)"
   ]
  },
  {
   "cell_type": "markdown",
   "id": "34830aae",
   "metadata": {},
   "source": [
    "### Pearson"
   ]
  },
  {
   "cell_type": "code",
   "execution_count": 6,
   "id": "90625919",
   "metadata": {},
   "outputs": [
    {
     "data": {
      "application/vnd.jupyter.widget-view+json": {
       "model_id": "28091545bf1f431ab33685a89b276f02",
       "version_major": 2,
       "version_minor": 0
      },
      "text/plain": [
       "interactive(children=(SelectMultiple(description='Projetos', index=(0, 1, 2, 3, 4, 5, 6, 7, 8, 9, 10, 11, 12, …"
      ]
     },
     "metadata": {},
     "output_type": "display_data"
    },
    {
     "data": {
      "text/plain": [
       "<function __main__.update_plot(project_list)>"
      ]
     },
     "execution_count": 6,
     "metadata": {},
     "output_type": "execute_result"
    }
   ],
   "source": [
    "import matplotlib.pyplot as plt\n",
    "import matplotlib.dates as mdates\n",
    "import pandas as pd\n",
    "import seaborn as sns\n",
    "from ipywidgets import interact, widgets\n",
    "\n",
    "correlation_pearson = data.groupby('project')[['smoothed_qt_commit', 'smoothed_relative_interest']].corr(method=\"pearson\").iloc[0::2,-1].reset_index().rename(columns= {\"smoothed_relative_interest\": \"pearson (commit/trends)\"}).drop(columns= {\"level_1\"})\n",
    "\n",
    "def update_plot(project_list):\n",
    "    plt.figure(figsize=(10, 5))\n",
    "\n",
    "    for project in project_list:\n",
    "        data = correlation_pearson[correlation_pearson[\"project\"] == project]\n",
    "        sns.scatterplot(x=data['project'], y=data['pearson (commit/trends)'])\n",
    "        plt.axvline(project, color='gray', linestyle='--', linewidth=0.5)\n",
    "\n",
    "    plt.xlabel('Projeto')\n",
    "    plt.ylabel('Correlação de Pearson')\n",
    "    plt.title('Correlação de Pearson por Projeto/Interesse Relativo')\n",
    "    plt.xticks(rotation=90)\n",
    "    plt.tight_layout()\n",
    "    plt.show()\n",
    "\n",
    "project_options = correlation_pearson['project'].unique()\n",
    "\n",
    "initial_value = tuple(project_options)\n",
    "\n",
    "project_selector = widgets.SelectMultiple(\n",
    "    options=project_options,\n",
    "    value=initial_value,\n",
    "    description='Projetos'\n",
    ")\n",
    "\n",
    "interact(update_plot, project_list=project_selector)"
   ]
  },
  {
   "cell_type": "markdown",
   "id": "3551ea1e",
   "metadata": {},
   "source": [
    "## Author / Interesse Relativo"
   ]
  },
  {
   "cell_type": "markdown",
   "id": "7173f0d3",
   "metadata": {},
   "source": [
    "### Spearman"
   ]
  },
  {
   "cell_type": "code",
   "execution_count": 9,
   "id": "f04045bb",
   "metadata": {},
   "outputs": [
    {
     "data": {
      "application/vnd.jupyter.widget-view+json": {
       "model_id": "7ebfdf34d32c40989fdfdaafc108a401",
       "version_major": 2,
       "version_minor": 0
      },
      "text/plain": [
       "interactive(children=(SelectMultiple(description='Projetos', index=(0, 1, 2, 3, 4, 5, 6, 7, 8, 9, 10, 11, 12, …"
      ]
     },
     "metadata": {},
     "output_type": "display_data"
    },
    {
     "data": {
      "text/plain": [
       "<function __main__.update_plot(project_list)>"
      ]
     },
     "execution_count": 9,
     "metadata": {},
     "output_type": "execute_result"
    }
   ],
   "source": [
    "import matplotlib.pyplot as plt\n",
    "import matplotlib.dates as mdates\n",
    "import pandas as pd\n",
    "import seaborn as sns\n",
    "from ipywidgets import interact, widgets\n",
    "\n",
    "correlation_spearman = data.groupby('project')[['smoothed_qt_author', 'smoothed_relative_interest']].corr(method=\"spearman\").iloc[0::2,-1].reset_index().rename(columns= {\"smoothed_relative_interest\": \"spearman (author/trends)\"}).drop(columns= {\"level_1\"})\n",
    "\n",
    "def update_plot(project_list):\n",
    "    plt.figure(figsize=(10, 5))\n",
    "\n",
    "    for project in project_list:\n",
    "        data = correlation_spearman[correlation_spearman[\"project\"] == project]\n",
    "        sns.scatterplot(x=data['project'], y=data['spearman (author/trends)'])\n",
    "        plt.axvline(project, color='gray', linestyle='--', linewidth=0.5)\n",
    "\n",
    "    plt.xlabel('Projeto')\n",
    "    plt.ylabel('Correlação de Spearman')\n",
    "    plt.title('Correlação de Spearman por Author/Interesse Relativo')\n",
    "    plt.xticks(rotation=90)\n",
    "    plt.tight_layout()\n",
    "    plt.show()\n",
    "\n",
    "project_options = correlation_spearman['project'].unique()\n",
    "\n",
    "initial_value = tuple(project_options)\n",
    "\n",
    "project_selector = widgets.SelectMultiple(\n",
    "    options=project_options,\n",
    "    value=initial_value,\n",
    "    description='Projetos'\n",
    ")\n",
    "\n",
    "interact(update_plot, project_list=project_selector)"
   ]
  },
  {
   "cell_type": "markdown",
   "id": "3ed69afd",
   "metadata": {},
   "source": [
    "### Pearson"
   ]
  },
  {
   "cell_type": "code",
   "execution_count": 10,
   "id": "3c5a2ca1",
   "metadata": {},
   "outputs": [
    {
     "data": {
      "application/vnd.jupyter.widget-view+json": {
       "model_id": "c8f02bf76f6749a19538a90942d239f8",
       "version_major": 2,
       "version_minor": 0
      },
      "text/plain": [
       "interactive(children=(SelectMultiple(description='Projetos', index=(0, 1, 2, 3, 4, 5, 6, 7, 8, 9, 10, 11, 12, …"
      ]
     },
     "metadata": {},
     "output_type": "display_data"
    },
    {
     "data": {
      "text/plain": [
       "<function __main__.update_plot(project_list)>"
      ]
     },
     "execution_count": 10,
     "metadata": {},
     "output_type": "execute_result"
    }
   ],
   "source": [
    "import matplotlib.pyplot as plt\n",
    "import matplotlib.dates as mdates\n",
    "import pandas as pd\n",
    "import seaborn as sns\n",
    "from ipywidgets import interact, widgets\n",
    "\n",
    "correlation_pearson = data.groupby('project')[['smoothed_qt_author', 'smoothed_relative_interest']].corr(method=\"pearson\").iloc[0::2,-1].reset_index().rename(columns= {\"smoothed_relative_interest\": \"pearson (author/trends)\"}).drop(columns= {\"level_1\"})\n",
    "\n",
    "def update_plot(project_list):\n",
    "    plt.figure(figsize=(10, 5))\n",
    "\n",
    "    for project in project_list:\n",
    "        data = correlation_pearson[correlation_pearson[\"project\"] == project]\n",
    "        sns.scatterplot(x=data['project'], y=data['pearson (author/trends)'])\n",
    "        plt.axvline(project, color='gray', linestyle='--', linewidth=0.5)\n",
    "\n",
    "    plt.xlabel('Projeto')\n",
    "    plt.ylabel('Correlação de Pearson')\n",
    "    plt.title('Correlação de Pearson por Author/Interesse Relativo')\n",
    "    plt.xticks(rotation=90)\n",
    "    plt.tight_layout()\n",
    "    plt.show()\n",
    "\n",
    "project_options = correlation_pearson['project'].unique()\n",
    "\n",
    "initial_value = tuple(project_options)\n",
    "\n",
    "project_selector = widgets.SelectMultiple(\n",
    "    options=project_options,\n",
    "    value=initial_value,\n",
    "    description='Projetos'\n",
    ")\n",
    "\n",
    "interact(update_plot, project_list=project_selector)"
   ]
  },
  {
   "cell_type": "markdown",
   "id": "a4d48359",
   "metadata": {},
   "source": [
    "## Commit / Author"
   ]
  },
  {
   "cell_type": "markdown",
   "id": "629be7b6",
   "metadata": {},
   "source": [
    "### Spearman"
   ]
  },
  {
   "cell_type": "code",
   "execution_count": 11,
   "id": "1eada2ad",
   "metadata": {},
   "outputs": [
    {
     "data": {
      "application/vnd.jupyter.widget-view+json": {
       "model_id": "7292ac664048471fb41f49678ed7479c",
       "version_major": 2,
       "version_minor": 0
      },
      "text/plain": [
       "interactive(children=(SelectMultiple(description='Projetos', index=(0, 1, 2, 3, 4, 5, 6, 7, 8, 9, 10, 11, 12, …"
      ]
     },
     "metadata": {},
     "output_type": "display_data"
    },
    {
     "data": {
      "text/plain": [
       "<function __main__.update_plot(project_list)>"
      ]
     },
     "execution_count": 11,
     "metadata": {},
     "output_type": "execute_result"
    }
   ],
   "source": [
    "import matplotlib.pyplot as plt\n",
    "import matplotlib.dates as mdates\n",
    "import pandas as pd\n",
    "import seaborn as sns\n",
    "from ipywidgets import interact, widgets\n",
    "\n",
    "correlation_spearman = data.groupby('project')[['smoothed_qt_commit', 'smoothed_qt_author']].corr(method=\"spearman\").iloc[0::2,-1].reset_index().rename(columns= {\"smoothed_qt_author\": \"spearman (commit/author)\"}).drop(columns= {\"level_1\"})\n",
    "\n",
    "def update_plot(project_list):\n",
    "    plt.figure(figsize=(10, 5))\n",
    "\n",
    "    for project in project_list:\n",
    "        data = correlation_spearman[correlation_spearman[\"project\"] == project]\n",
    "        sns.scatterplot(x=data['project'], y=data['spearman (commit/author)'])\n",
    "        plt.axvline(project, color='gray', linestyle='--', linewidth=0.5)\n",
    "\n",
    "    plt.xlabel('Projeto')\n",
    "    plt.ylabel('Correlação de Spearman')\n",
    "    plt.title('Correlação de Spearman por Commit/Author')\n",
    "    plt.xticks(rotation=90)\n",
    "    plt.tight_layout()\n",
    "    plt.show()\n",
    "\n",
    "project_options = correlation_spearman['project'].unique()\n",
    "\n",
    "initial_value = tuple(project_options)\n",
    "\n",
    "project_selector = widgets.SelectMultiple(\n",
    "    options=project_options,\n",
    "    value=initial_value,\n",
    "    description='Projetos'\n",
    ")\n",
    "\n",
    "interact(update_plot, project_list=project_selector)"
   ]
  },
  {
   "cell_type": "markdown",
   "id": "e2930557",
   "metadata": {},
   "source": [
    "### Pearson"
   ]
  },
  {
   "cell_type": "code",
   "execution_count": 12,
   "id": "49d163f3",
   "metadata": {},
   "outputs": [
    {
     "data": {
      "application/vnd.jupyter.widget-view+json": {
       "model_id": "e404ccd532e5490ebec2cbe7f8aa7324",
       "version_major": 2,
       "version_minor": 0
      },
      "text/plain": [
       "interactive(children=(SelectMultiple(description='Projetos', index=(0, 1, 2, 3, 4, 5, 6, 7, 8, 9, 10, 11, 12, …"
      ]
     },
     "metadata": {},
     "output_type": "display_data"
    },
    {
     "data": {
      "text/plain": [
       "<function __main__.update_plot(project_list)>"
      ]
     },
     "execution_count": 12,
     "metadata": {},
     "output_type": "execute_result"
    }
   ],
   "source": [
    "import matplotlib.pyplot as plt\n",
    "import matplotlib.dates as mdates\n",
    "import pandas as pd\n",
    "import seaborn as sns\n",
    "from ipywidgets import interact, widgets\n",
    "\n",
    "correlation_pearson = data.groupby('project')[['smoothed_qt_commit', 'smoothed_qt_author']].corr(method=\"pearson\").iloc[0::2,-1].reset_index().rename(columns= {\"smoothed_qt_author\": \"pearson (commit/author)\"}).drop(columns= {\"level_1\"})\n",
    "\n",
    "def update_plot(project_list):\n",
    "    plt.figure(figsize=(10, 5))\n",
    "\n",
    "    for project in project_list:\n",
    "        data = correlation_pearson[correlation_pearson[\"project\"] == project]\n",
    "        sns.scatterplot(x=data['project'], y=data['pearson (commit/author)'])\n",
    "        plt.axvline(project, color='gray', linestyle='--', linewidth=0.5)\n",
    "\n",
    "    plt.xlabel('Projeto')\n",
    "    plt.ylabel('Correlação de Pearson')\n",
    "    plt.title('Correlação de Pearson por Commit/Author')\n",
    "    plt.xticks(rotation=90)\n",
    "    plt.tight_layout()\n",
    "    plt.show()\n",
    "\n",
    "project_options = correlation_pearson['project'].unique()\n",
    "\n",
    "initial_value = tuple(project_options)\n",
    "\n",
    "project_selector = widgets.SelectMultiple(\n",
    "    options=project_options,\n",
    "    value=initial_value,\n",
    "    description='Projetos'\n",
    ")\n",
    "\n",
    "interact(update_plot, project_list=project_selector)"
   ]
  },
  {
   "cell_type": "code",
   "execution_count": 1,
   "id": "b3b2522b",
   "metadata": {},
   "outputs": [],
   "source": [
    "import pandas as pd\n",
    "correlacoes = pd.read_csv(\"correlacao_geral.csv\", index_col = 0)"
   ]
  },
  {
   "cell_type": "code",
   "execution_count": 15,
   "id": "e5a76ed8",
   "metadata": {},
   "outputs": [
    {
     "data": {
      "text/html": [
       "<div>\n",
       "<style scoped>\n",
       "    .dataframe tbody tr th:only-of-type {\n",
       "        vertical-align: middle;\n",
       "    }\n",
       "\n",
       "    .dataframe tbody tr th {\n",
       "        vertical-align: top;\n",
       "    }\n",
       "\n",
       "    .dataframe thead th {\n",
       "        text-align: right;\n",
       "    }\n",
       "</style>\n",
       "<table border=\"1\" class=\"dataframe\">\n",
       "  <thead>\n",
       "    <tr style=\"text-align: right;\">\n",
       "      <th></th>\n",
       "      <th>project</th>\n",
       "      <th>spearman (commit/interest)</th>\n",
       "      <th>spearman (author/interest)</th>\n",
       "      <th>spearman (commit/author)</th>\n",
       "    </tr>\n",
       "  </thead>\n",
       "  <tbody>\n",
       "    <tr>\n",
       "      <th>0</th>\n",
       "      <td>CNTK</td>\n",
       "      <td>NaN</td>\n",
       "      <td>NaN</td>\n",
       "      <td>0.936</td>\n",
       "    </tr>\n",
       "    <tr>\n",
       "      <th>1</th>\n",
       "      <td>Catch2</td>\n",
       "      <td>0.233</td>\n",
       "      <td>0.592</td>\n",
       "      <td>0.493</td>\n",
       "    </tr>\n",
       "    <tr>\n",
       "      <th>2</th>\n",
       "      <td>Chart.js</td>\n",
       "      <td>-0.127</td>\n",
       "      <td>0.142</td>\n",
       "      <td>0.670</td>\n",
       "    </tr>\n",
       "    <tr>\n",
       "      <th>3</th>\n",
       "      <td>ITK</td>\n",
       "      <td>0.816</td>\n",
       "      <td>0.177</td>\n",
       "      <td>0.468</td>\n",
       "    </tr>\n",
       "    <tr>\n",
       "      <th>4</th>\n",
       "      <td>PyTables</td>\n",
       "      <td>0.232</td>\n",
       "      <td>-0.307</td>\n",
       "      <td>0.310</td>\n",
       "    </tr>\n",
       "    <tr>\n",
       "      <th>...</th>\n",
       "      <td>...</td>\n",
       "      <td>...</td>\n",
       "      <td>...</td>\n",
       "      <td>...</td>\n",
       "    </tr>\n",
       "    <tr>\n",
       "      <th>80</th>\n",
       "      <td>vue</td>\n",
       "      <td>-0.428</td>\n",
       "      <td>-0.113</td>\n",
       "      <td>0.784</td>\n",
       "    </tr>\n",
       "    <tr>\n",
       "      <th>81</th>\n",
       "      <td>web2py</td>\n",
       "      <td>0.979</td>\n",
       "      <td>0.482</td>\n",
       "      <td>0.532</td>\n",
       "    </tr>\n",
       "    <tr>\n",
       "      <th>82</th>\n",
       "      <td>weka-3.8</td>\n",
       "      <td>NaN</td>\n",
       "      <td>NaN</td>\n",
       "      <td>-0.309</td>\n",
       "    </tr>\n",
       "    <tr>\n",
       "      <th>83</th>\n",
       "      <td>wt</td>\n",
       "      <td>-0.130</td>\n",
       "      <td>-0.481</td>\n",
       "      <td>-0.051</td>\n",
       "    </tr>\n",
       "    <tr>\n",
       "      <th>84</th>\n",
       "      <td>zaproxy</td>\n",
       "      <td>0.093</td>\n",
       "      <td>0.552</td>\n",
       "      <td>0.373</td>\n",
       "    </tr>\n",
       "  </tbody>\n",
       "</table>\n",
       "<p>85 rows × 4 columns</p>\n",
       "</div>"
      ],
      "text/plain": [
       "     project  spearman (commit/interest)  spearman (author/interest)  \\\n",
       "0       CNTK                         NaN                         NaN   \n",
       "1     Catch2                       0.233                       0.592   \n",
       "2   Chart.js                      -0.127                       0.142   \n",
       "3        ITK                       0.816                       0.177   \n",
       "4   PyTables                       0.232                      -0.307   \n",
       "..       ...                         ...                         ...   \n",
       "80       vue                      -0.428                      -0.113   \n",
       "81    web2py                       0.979                       0.482   \n",
       "82  weka-3.8                         NaN                         NaN   \n",
       "83        wt                      -0.130                      -0.481   \n",
       "84   zaproxy                       0.093                       0.552   \n",
       "\n",
       "    spearman (commit/author)  \n",
       "0                      0.936  \n",
       "1                      0.493  \n",
       "2                      0.670  \n",
       "3                      0.468  \n",
       "4                      0.310  \n",
       "..                       ...  \n",
       "80                     0.784  \n",
       "81                     0.532  \n",
       "82                    -0.309  \n",
       "83                    -0.051  \n",
       "84                     0.373  \n",
       "\n",
       "[85 rows x 4 columns]"
      ]
     },
     "execution_count": 15,
     "metadata": {},
     "output_type": "execute_result"
    }
   ],
   "source": [
    "correlacoes"
   ]
  },
  {
   "cell_type": "code",
   "execution_count": 21,
   "id": "5367bd5e",
   "metadata": {},
   "outputs": [
    {
     "data": {
      "text/plain": [
       "0"
      ]
     },
     "execution_count": 21,
     "metadata": {},
     "output_type": "execute_result"
    }
   ],
   "source": [
    "len(correlacoes[(correlacoes[\"spearman (commit/author)\"] < -0.5)])"
   ]
  },
  {
   "cell_type": "code",
   "execution_count": null,
   "id": "0476cddc",
   "metadata": {},
   "outputs": [],
   "source": []
  }
 ],
 "metadata": {
  "kernelspec": {
   "display_name": "Python 3 (ipykernel)",
   "language": "python",
   "name": "python3"
  },
  "language_info": {
   "codemirror_mode": {
    "name": "ipython",
    "version": 3
   },
   "file_extension": ".py",
   "mimetype": "text/x-python",
   "name": "python",
   "nbconvert_exporter": "python",
   "pygments_lexer": "ipython3",
   "version": "3.10.9"
  }
 },
 "nbformat": 4,
 "nbformat_minor": 5
}
