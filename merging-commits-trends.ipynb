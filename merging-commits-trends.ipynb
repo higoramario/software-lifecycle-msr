{
 "cells": [
  {
   "cell_type": "markdown",
   "id": "50395a14",
   "metadata": {},
   "source": [
    "# Ajustando Dados"
   ]
  },
  {
   "cell_type": "code",
   "execution_count": 22,
   "id": "7ad06a78",
   "metadata": {},
   "outputs": [],
   "source": [
    "import pandas as pd\n",
    "from datetime import datetime\n",
    "commits = pd.read_csv(\"CSV/all_commits.csv\", index_col = 0)\n",
    "trends = pd.read_csv(\"CSV/trends_all.csv\", index_col = 0)"
   ]
  },
  {
   "cell_type": "code",
   "execution_count": 25,
   "id": "96d0dd3b",
   "metadata": {},
   "outputs": [],
   "source": [
    "commits_group = commits.groupby([\"commit_date\", \"project\"], as_index=False).agg({'id': 'count', \"author_name\": \"nunique\"})"
   ]
  },
  {
   "cell_type": "code",
   "execution_count": 26,
   "id": "866ffc34",
   "metadata": {},
   "outputs": [
    {
     "data": {
      "text/html": [
       "<div>\n",
       "<style scoped>\n",
       "    .dataframe tbody tr th:only-of-type {\n",
       "        vertical-align: middle;\n",
       "    }\n",
       "\n",
       "    .dataframe tbody tr th {\n",
       "        vertical-align: top;\n",
       "    }\n",
       "\n",
       "    .dataframe thead th {\n",
       "        text-align: right;\n",
       "    }\n",
       "</style>\n",
       "<table border=\"1\" class=\"dataframe\">\n",
       "  <thead>\n",
       "    <tr style=\"text-align: right;\">\n",
       "      <th></th>\n",
       "      <th>date</th>\n",
       "      <th>project</th>\n",
       "      <th>relative_interest</th>\n",
       "    </tr>\n",
       "  </thead>\n",
       "  <tbody>\n",
       "    <tr>\n",
       "      <th>0</th>\n",
       "      <td>2004-01-01</td>\n",
       "      <td>mlpack</td>\n",
       "      <td>0.0</td>\n",
       "    </tr>\n",
       "    <tr>\n",
       "      <th>1</th>\n",
       "      <td>2004-01-01</td>\n",
       "      <td>robotframework</td>\n",
       "      <td>28.0</td>\n",
       "    </tr>\n",
       "    <tr>\n",
       "      <th>2</th>\n",
       "      <td>2004-01-01</td>\n",
       "      <td>openssl</td>\n",
       "      <td>88.0</td>\n",
       "    </tr>\n",
       "    <tr>\n",
       "      <th>3</th>\n",
       "      <td>2004-01-01</td>\n",
       "      <td>ITK</td>\n",
       "      <td>82.0</td>\n",
       "    </tr>\n",
       "    <tr>\n",
       "      <th>4</th>\n",
       "      <td>2004-01-01</td>\n",
       "      <td>junit4</td>\n",
       "      <td>0.0</td>\n",
       "    </tr>\n",
       "    <tr>\n",
       "      <th>...</th>\n",
       "      <td>...</td>\n",
       "      <td>...</td>\n",
       "      <td>...</td>\n",
       "    </tr>\n",
       "    <tr>\n",
       "      <th>18955</th>\n",
       "      <td>2023-09-01</td>\n",
       "      <td>fastapi</td>\n",
       "      <td>100.0</td>\n",
       "    </tr>\n",
       "    <tr>\n",
       "      <th>18956</th>\n",
       "      <td>2023-09-01</td>\n",
       "      <td>deeplearning4j</td>\n",
       "      <td>3.0</td>\n",
       "    </tr>\n",
       "    <tr>\n",
       "      <th>18957</th>\n",
       "      <td>2023-09-01</td>\n",
       "      <td>faces</td>\n",
       "      <td>45.0</td>\n",
       "    </tr>\n",
       "    <tr>\n",
       "      <th>18958</th>\n",
       "      <td>2023-09-01</td>\n",
       "      <td>owasp java</td>\n",
       "      <td>22.0</td>\n",
       "    </tr>\n",
       "    <tr>\n",
       "      <th>18959</th>\n",
       "      <td>2023-09-01</td>\n",
       "      <td>armadillo code</td>\n",
       "      <td>26.0</td>\n",
       "    </tr>\n",
       "  </tbody>\n",
       "</table>\n",
       "<p>18960 rows × 3 columns</p>\n",
       "</div>"
      ],
      "text/plain": [
       "             date         project  relative_interest\n",
       "0      2004-01-01          mlpack                0.0\n",
       "1      2004-01-01  robotframework               28.0\n",
       "2      2004-01-01         openssl               88.0\n",
       "3      2004-01-01             ITK               82.0\n",
       "4      2004-01-01          junit4                0.0\n",
       "...           ...             ...                ...\n",
       "18955  2023-09-01         fastapi              100.0\n",
       "18956  2023-09-01  deeplearning4j                3.0\n",
       "18957  2023-09-01           faces               45.0\n",
       "18958  2023-09-01      owasp java               22.0\n",
       "18959  2023-09-01  armadillo code               26.0\n",
       "\n",
       "[18960 rows x 3 columns]"
      ]
     },
     "execution_count": 26,
     "metadata": {},
     "output_type": "execute_result"
    }
   ],
   "source": [
    "trends"
   ]
  },
  {
   "cell_type": "code",
   "execution_count": 27,
   "id": "d73f9e33",
   "metadata": {},
   "outputs": [],
   "source": [
    "commits_group[\"commit_date\"] = pd.to_datetime(commits_group[\"commit_date\"], format=\"%d/%m/%Y\")\n",
    "trends[\"date\"] = pd.to_datetime(trends[\"date\"], format=\"%Y-%m-%d\")"
   ]
  },
  {
   "cell_type": "code",
   "execution_count": 28,
   "id": "f6e1715f",
   "metadata": {},
   "outputs": [],
   "source": [
    "commits_group = pd.merge(commits_group, trends, left_on=[\"project\", \"commit_date\"], right_on=[\"project\", \"date\"], how=\"left\")\n",
    "commits_group.drop(columns={\"date\"}, inplace = True)\n",
    "commits_group.rename(columns={\"id\": \"qt_commit\", \"author_name\": \"qt_author\"}, inplace = True)"
   ]
  },
  {
   "cell_type": "code",
   "execution_count": 29,
   "id": "43b71164",
   "metadata": {},
   "outputs": [],
   "source": [
    "commits_group = commits_group.sort_values(by=['project', 'commit_date'])"
   ]
  },
  {
   "cell_type": "code",
   "execution_count": 30,
   "id": "b81e8dfe",
   "metadata": {},
   "outputs": [],
   "source": [
    "commits_group = commits_group[commits_group[\"commit_date\"] >= \"2000-01-01\"]"
   ]
  },
  {
   "cell_type": "code",
   "execution_count": 32,
   "id": "dfeb3242",
   "metadata": {},
   "outputs": [],
   "source": [
    "commits_group.to_csv(\"CSV/all_relations.csv\")"
   ]
  }
 ],
 "metadata": {
  "kernelspec": {
   "display_name": "Python 3 (ipykernel)",
   "language": "python",
   "name": "python3"
  },
  "language_info": {
   "codemirror_mode": {
    "name": "ipython",
    "version": 3
   },
   "file_extension": ".py",
   "mimetype": "text/x-python",
   "name": "python",
   "nbconvert_exporter": "python",
   "pygments_lexer": "ipython3",
   "version": "3.10.9"
  }
 },
 "nbformat": 4,
 "nbformat_minor": 5
}
