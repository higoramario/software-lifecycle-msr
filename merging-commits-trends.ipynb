{
 "cells": [
  {
   "cell_type": "markdown",
   "id": "50395a14",
   "metadata": {},
   "source": [
    "# Merging commits and trends databases"
   ]
  },
  {
   "cell_type": "code",
   "execution_count": 2,
   "id": "7ad06a78",
   "metadata": {},
   "outputs": [],
   "source": [
    "import pandas as pd\n",
    "from datetime import datetime"
   ]
  },
  {
   "cell_type": "code",
   "execution_count": 27,
   "id": "d340d395",
   "metadata": {},
   "outputs": [],
   "source": [
    "commits = pd.read_csv(\"data/commits.csv\", index_col = 0)"
   ]
  },
  {
   "cell_type": "code",
   "execution_count": null,
   "id": "8806bfb7",
   "metadata": {},
   "outputs": [],
   "source": [
    "trends = pd.read_csv(\"data/trends.csv\", index_col = 0)"
   ]
  },
  {
   "cell_type": "code",
   "execution_count": 144,
   "id": "96d0dd3b",
   "metadata": {},
   "outputs": [],
   "source": [
    "commits_and_trends = commits.groupby([\"commit_date\", \"project\"], as_index=False).agg({'id': 'count', \"author_name\": \"nunique\"})"
   ]
  },
  {
   "cell_type": "code",
   "execution_count": 145,
   "id": "11088775",
   "metadata": {},
   "outputs": [],
   "source": [
    "commits_and_trends[\"commit_date\"] = pd.to_datetime(commits_and_trends[\"commit_date\"],utc=True)"
   ]
  },
  {
   "cell_type": "code",
   "execution_count": 147,
   "id": "1ec7d68c",
   "metadata": {},
   "outputs": [],
   "source": [
    "commits_and_trends[\"commit_date\"] = commits_and_trends[\"commit_date\"].dt.date"
   ]
  },
  {
   "cell_type": "code",
   "execution_count": 150,
   "id": "2a2a481e",
   "metadata": {},
   "outputs": [],
   "source": [
    "commits_and_trends[\"commit_date\"] = pd.to_datetime(commits_and_trends[\"commit_date\"], format=\"%Y-%m-%d\")"
   ]
  },
  {
   "cell_type": "code",
   "execution_count": 10,
   "id": "be12cf5a",
   "metadata": {},
   "outputs": [],
   "source": [
    "trends[\"date\"] = pd.to_datetime(trends[\"date\"], format=\"%Y-%m-%d\")"
   ]
  },
  {
   "cell_type": "code",
   "execution_count": 153,
   "id": "f6e1715f",
   "metadata": {},
   "outputs": [],
   "source": [
    "commits_and_trends = pd.merge(commits_and_trends, trends, left_on=[\"project\", \"commit_date\"], right_on=[\"project\", \"date\"], how=\"left\")"
   ]
  },
  {
   "cell_type": "code",
   "execution_count": 154,
   "id": "821ce1a6",
   "metadata": {},
   "outputs": [],
   "source": [
    "commits_and_trends.drop(columns={\"date\"}, inplace = True)\n",
    "commits_and_trends.rename(columns={\"id\": \"qt_commit\", \"author_name\": \"qt_author\"}, inplace = True)"
   ]
  },
  {
   "cell_type": "code",
   "execution_count": 156,
   "id": "43b71164",
   "metadata": {},
   "outputs": [],
   "source": [
    "commits_and_trends = commits_and_trends.sort_values(by=['project', 'commit_date'])"
   ]
  },
  {
   "cell_type": "code",
   "execution_count": 157,
   "id": "b81e8dfe",
   "metadata": {},
   "outputs": [],
   "source": [
    "commits_and_trends = commits_and_trends[commits_and_trends[\"commit_date\"] >= \"2000-01-01\"]"
   ]
  },
  {
   "cell_type": "code",
   "execution_count": 158,
   "id": "dfeb3242",
   "metadata": {},
   "outputs": [],
   "source": [
    "commits_and_trends.to_csv(\"data/commits-trends.csv\")"
   ]
  }
 ],
 "metadata": {
  "kernelspec": {
   "display_name": "Python 3 (ipykernel)",
   "language": "python",
   "name": "python3"
  },
  "language_info": {
   "codemirror_mode": {
    "name": "ipython",
    "version": 3
   },
   "file_extension": ".py",
   "mimetype": "text/x-python",
   "name": "python",
   "nbconvert_exporter": "python",
   "pygments_lexer": "ipython3",
   "version": "3.8.11"
  }
 },
 "nbformat": 4,
 "nbformat_minor": 5
}
