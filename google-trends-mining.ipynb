{
 "cells": [
  {
   "cell_type": "markdown",
   "id": "6e25b4b8",
   "metadata": {},
   "source": [
    "# Modificando Dados (Google Trends)"
   ]
  },
  {
   "cell_type": "code",
   "execution_count": 1,
   "id": "9c8d285f",
   "metadata": {},
   "outputs": [
    {
     "name": "stdout",
     "output_type": "stream",
     "text": [
      "Collecting pytrends\n",
      "  Downloading pytrends-4.9.2-py3-none-any.whl (15 kB)\n",
      "Requirement already satisfied: lxml in c:\\users\\ronal\\anaconda3\\lib\\site-packages (from pytrends) (4.9.1)\n",
      "Requirement already satisfied: pandas>=0.25 in c:\\users\\ronal\\anaconda3\\lib\\site-packages (from pytrends) (1.5.3)\n",
      "Requirement already satisfied: requests>=2.0 in c:\\users\\ronal\\anaconda3\\lib\\site-packages (from pytrends) (2.28.1)\n",
      "Requirement already satisfied: python-dateutil>=2.8.1 in c:\\users\\ronal\\anaconda3\\lib\\site-packages (from pandas>=0.25->pytrends) (2.8.2)\n",
      "Requirement already satisfied: pytz>=2020.1 in c:\\users\\ronal\\anaconda3\\lib\\site-packages (from pandas>=0.25->pytrends) (2022.7)\n",
      "Requirement already satisfied: numpy>=1.21.0 in c:\\users\\ronal\\anaconda3\\lib\\site-packages (from pandas>=0.25->pytrends) (1.23.5)\n",
      "Requirement already satisfied: certifi>=2017.4.17 in c:\\users\\ronal\\anaconda3\\lib\\site-packages (from requests>=2.0->pytrends) (2022.12.7)\n",
      "Requirement already satisfied: idna<4,>=2.5 in c:\\users\\ronal\\anaconda3\\lib\\site-packages (from requests>=2.0->pytrends) (3.4)\n",
      "Requirement already satisfied: urllib3<1.27,>=1.21.1 in c:\\users\\ronal\\anaconda3\\lib\\site-packages (from requests>=2.0->pytrends) (1.26.14)\n",
      "Requirement already satisfied: charset-normalizer<3,>=2 in c:\\users\\ronal\\anaconda3\\lib\\site-packages (from requests>=2.0->pytrends) (2.0.4)\n",
      "Requirement already satisfied: six>=1.5 in c:\\users\\ronal\\anaconda3\\lib\\site-packages (from python-dateutil>=2.8.1->pandas>=0.25->pytrends) (1.16.0)\n",
      "Installing collected packages: pytrends\n",
      "Successfully installed pytrends-4.9.2\n"
     ]
    }
   ],
   "source": [
    "!pip install pytrends"
   ]
  },
  {
   "cell_type": "code",
   "execution_count": null,
   "id": "24316964",
   "metadata": {},
   "outputs": [],
   "source": [
    "from pytrends.request import TrendReq\n",
    "import pandas as pd\n",
    "\n",
    "# Lista de termos que você quer pesquisar\n",
    "termos = pd.read_csv(\"CSV/nomes_de_softwares.csv\")\n",
    "termos = termos[\"softwares_names\"].tolist()\n",
    "\n",
    "# Divida a lista em grupos de 5\n",
    "grupos_de_termos = [termos[i:i+1] for i in range(0, len(termos), 1)]\n",
    "\n",
    "# Crie uma instância da TrendReq\n",
    "pytrends = TrendReq(hl='pt-BR', tz=360)  # Defina a linguagem (hl) e o fuso horário (tz)\n",
    "resultados = pd.DataFrame()\n",
    "\n",
    "# Para cada grupo de termos\n",
    "for grupo in grupos_de_termos:\n",
    "    # Configure os parâmetros da busca\n",
    "    pytrends.build_payload([grupo], cat=5, timeframe='all', geo='', gprop='')\n",
    "    # Obtenha os dados\n",
    "    dados_novos = pytrends.interest_over_time()\n",
    "    resultados = pd.concat([resultados, dados_novos], axis=0, join='outer')"
   ]
  },
  {
   "cell_type": "code",
   "execution_count": 2,
   "id": "6e62be04",
   "metadata": {},
   "outputs": [],
   "source": [
    "agregate = resultados.groupby(\"date\").sum()"
   ]
  },
  {
   "cell_type": "code",
   "execution_count": 3,
   "id": "5185a257",
   "metadata": {},
   "outputs": [
    {
     "data": {
      "text/html": [
       "<div>\n",
       "<style scoped>\n",
       "    .dataframe tbody tr th:only-of-type {\n",
       "        vertical-align: middle;\n",
       "    }\n",
       "\n",
       "    .dataframe tbody tr th {\n",
       "        vertical-align: top;\n",
       "    }\n",
       "\n",
       "    .dataframe thead th {\n",
       "        text-align: right;\n",
       "    }\n",
       "</style>\n",
       "<table border=\"1\" class=\"dataframe\">\n",
       "  <thead>\n",
       "    <tr style=\"text-align: right;\">\n",
       "      <th></th>\n",
       "      <th>pandas</th>\n",
       "      <th>isPartial</th>\n",
       "    </tr>\n",
       "    <tr>\n",
       "      <th>date</th>\n",
       "      <th></th>\n",
       "      <th></th>\n",
       "    </tr>\n",
       "  </thead>\n",
       "  <tbody>\n",
       "    <tr>\n",
       "      <th>2004-01-01</th>\n",
       "      <td>2</td>\n",
       "      <td>0</td>\n",
       "    </tr>\n",
       "    <tr>\n",
       "      <th>2004-02-01</th>\n",
       "      <td>1</td>\n",
       "      <td>0</td>\n",
       "    </tr>\n",
       "    <tr>\n",
       "      <th>2004-03-01</th>\n",
       "      <td>5</td>\n",
       "      <td>0</td>\n",
       "    </tr>\n",
       "    <tr>\n",
       "      <th>2004-04-01</th>\n",
       "      <td>0</td>\n",
       "      <td>0</td>\n",
       "    </tr>\n",
       "    <tr>\n",
       "      <th>2004-05-01</th>\n",
       "      <td>2</td>\n",
       "      <td>0</td>\n",
       "    </tr>\n",
       "    <tr>\n",
       "      <th>...</th>\n",
       "      <td>...</td>\n",
       "      <td>...</td>\n",
       "    </tr>\n",
       "    <tr>\n",
       "      <th>2023-06-01</th>\n",
       "      <td>67</td>\n",
       "      <td>0</td>\n",
       "    </tr>\n",
       "    <tr>\n",
       "      <th>2023-07-01</th>\n",
       "      <td>62</td>\n",
       "      <td>0</td>\n",
       "    </tr>\n",
       "    <tr>\n",
       "      <th>2023-08-01</th>\n",
       "      <td>67</td>\n",
       "      <td>0</td>\n",
       "    </tr>\n",
       "    <tr>\n",
       "      <th>2023-09-01</th>\n",
       "      <td>68</td>\n",
       "      <td>0</td>\n",
       "    </tr>\n",
       "    <tr>\n",
       "      <th>2023-10-01</th>\n",
       "      <td>68</td>\n",
       "      <td>1</td>\n",
       "    </tr>\n",
       "  </tbody>\n",
       "</table>\n",
       "<p>238 rows × 2 columns</p>\n",
       "</div>"
      ],
      "text/plain": [
       "            pandas  isPartial\n",
       "date                         \n",
       "2004-01-01       2          0\n",
       "2004-02-01       1          0\n",
       "2004-03-01       5          0\n",
       "2004-04-01       0          0\n",
       "2004-05-01       2          0\n",
       "...            ...        ...\n",
       "2023-06-01      67          0\n",
       "2023-07-01      62          0\n",
       "2023-08-01      67          0\n",
       "2023-09-01      68          0\n",
       "2023-10-01      68          1\n",
       "\n",
       "[238 rows x 2 columns]"
      ]
     },
     "execution_count": 3,
     "metadata": {},
     "output_type": "execute_result"
    }
   ],
   "source": [
    "agregate"
   ]
  },
  {
   "cell_type": "code",
   "execution_count": 4,
   "id": "da705144",
   "metadata": {},
   "outputs": [],
   "source": [
    "agregate = agregate.reset_index()\n",
    "agregate = agregate.melt(id_vars=[\"date\"], \n",
    "        var_name=\"project\", \n",
    "        value_name=\"relative_interest\")"
   ]
  },
  {
   "cell_type": "code",
   "execution_count": 5,
   "id": "a5a492e8",
   "metadata": {},
   "outputs": [
    {
     "data": {
      "text/html": [
       "<div>\n",
       "<style scoped>\n",
       "    .dataframe tbody tr th:only-of-type {\n",
       "        vertical-align: middle;\n",
       "    }\n",
       "\n",
       "    .dataframe tbody tr th {\n",
       "        vertical-align: top;\n",
       "    }\n",
       "\n",
       "    .dataframe thead th {\n",
       "        text-align: right;\n",
       "    }\n",
       "</style>\n",
       "<table border=\"1\" class=\"dataframe\">\n",
       "  <thead>\n",
       "    <tr style=\"text-align: right;\">\n",
       "      <th></th>\n",
       "      <th>id</th>\n",
       "      <th>softwares_names</th>\n",
       "    </tr>\n",
       "  </thead>\n",
       "  <tbody>\n",
       "    <tr>\n",
       "      <th>0</th>\n",
       "      <td>1</td>\n",
       "      <td>pandas</td>\n",
       "    </tr>\n",
       "  </tbody>\n",
       "</table>\n",
       "</div>"
      ],
      "text/plain": [
       "   id softwares_names\n",
       "0   1          pandas"
      ]
     },
     "execution_count": 5,
     "metadata": {},
     "output_type": "execute_result"
    }
   ],
   "source": [
    "termos = pd.read_csv(\"CSV/nomes_de_softwares.csv\")\n",
    "termos"
   ]
  },
  {
   "cell_type": "code",
   "execution_count": 6,
   "id": "288bbced",
   "metadata": {},
   "outputs": [],
   "source": [
    "merge = pd.merge(agregate, termos, left_on=\"project\", right_on=\"softwares_names\", how=\"left\")"
   ]
  },
  {
   "cell_type": "code",
   "execution_count": 7,
   "id": "a334127c",
   "metadata": {},
   "outputs": [],
   "source": [
    "merge = merge.groupby([\"date\", \"id\"]).agg({\"project\": \"first\", \"relative_interest\": \"sum\"})"
   ]
  },
  {
   "cell_type": "code",
   "execution_count": 8,
   "id": "bfb5f1a6",
   "metadata": {},
   "outputs": [
    {
     "data": {
      "text/html": [
       "<div>\n",
       "<style scoped>\n",
       "    .dataframe tbody tr th:only-of-type {\n",
       "        vertical-align: middle;\n",
       "    }\n",
       "\n",
       "    .dataframe tbody tr th {\n",
       "        vertical-align: top;\n",
       "    }\n",
       "\n",
       "    .dataframe thead th {\n",
       "        text-align: right;\n",
       "    }\n",
       "</style>\n",
       "<table border=\"1\" class=\"dataframe\">\n",
       "  <thead>\n",
       "    <tr style=\"text-align: right;\">\n",
       "      <th></th>\n",
       "      <th>date</th>\n",
       "      <th>project</th>\n",
       "      <th>relative_interest</th>\n",
       "    </tr>\n",
       "  </thead>\n",
       "  <tbody>\n",
       "    <tr>\n",
       "      <th>0</th>\n",
       "      <td>2004-01-01</td>\n",
       "      <td>pandas</td>\n",
       "      <td>2</td>\n",
       "    </tr>\n",
       "    <tr>\n",
       "      <th>1</th>\n",
       "      <td>2004-02-01</td>\n",
       "      <td>pandas</td>\n",
       "      <td>1</td>\n",
       "    </tr>\n",
       "    <tr>\n",
       "      <th>2</th>\n",
       "      <td>2004-03-01</td>\n",
       "      <td>pandas</td>\n",
       "      <td>5</td>\n",
       "    </tr>\n",
       "    <tr>\n",
       "      <th>3</th>\n",
       "      <td>2004-04-01</td>\n",
       "      <td>pandas</td>\n",
       "      <td>0</td>\n",
       "    </tr>\n",
       "    <tr>\n",
       "      <th>4</th>\n",
       "      <td>2004-05-01</td>\n",
       "      <td>pandas</td>\n",
       "      <td>2</td>\n",
       "    </tr>\n",
       "    <tr>\n",
       "      <th>...</th>\n",
       "      <td>...</td>\n",
       "      <td>...</td>\n",
       "      <td>...</td>\n",
       "    </tr>\n",
       "    <tr>\n",
       "      <th>233</th>\n",
       "      <td>2023-06-01</td>\n",
       "      <td>pandas</td>\n",
       "      <td>67</td>\n",
       "    </tr>\n",
       "    <tr>\n",
       "      <th>234</th>\n",
       "      <td>2023-07-01</td>\n",
       "      <td>pandas</td>\n",
       "      <td>62</td>\n",
       "    </tr>\n",
       "    <tr>\n",
       "      <th>235</th>\n",
       "      <td>2023-08-01</td>\n",
       "      <td>pandas</td>\n",
       "      <td>67</td>\n",
       "    </tr>\n",
       "    <tr>\n",
       "      <th>236</th>\n",
       "      <td>2023-09-01</td>\n",
       "      <td>pandas</td>\n",
       "      <td>68</td>\n",
       "    </tr>\n",
       "    <tr>\n",
       "      <th>237</th>\n",
       "      <td>2023-10-01</td>\n",
       "      <td>pandas</td>\n",
       "      <td>68</td>\n",
       "    </tr>\n",
       "  </tbody>\n",
       "</table>\n",
       "<p>238 rows × 3 columns</p>\n",
       "</div>"
      ],
      "text/plain": [
       "          date project  relative_interest\n",
       "0   2004-01-01  pandas                  2\n",
       "1   2004-02-01  pandas                  1\n",
       "2   2004-03-01  pandas                  5\n",
       "3   2004-04-01  pandas                  0\n",
       "4   2004-05-01  pandas                  2\n",
       "..         ...     ...                ...\n",
       "233 2023-06-01  pandas                 67\n",
       "234 2023-07-01  pandas                 62\n",
       "235 2023-08-01  pandas                 67\n",
       "236 2023-09-01  pandas                 68\n",
       "237 2023-10-01  pandas                 68\n",
       "\n",
       "[238 rows x 3 columns]"
      ]
     },
     "execution_count": 8,
     "metadata": {},
     "output_type": "execute_result"
    }
   ],
   "source": [
    "merge = merge.reset_index()\n",
    "merge.drop(columns={\"id\"}, inplace = True)\n",
    "merge"
   ]
  },
  {
   "cell_type": "code",
   "execution_count": 37,
   "id": "0a7c8a22",
   "metadata": {},
   "outputs": [],
   "source": [
    "merge.to_csv(\"CSV/trends_all.csv\")"
   ]
  }
 ],
 "metadata": {
  "kernelspec": {
   "display_name": "Python 3 (ipykernel)",
   "language": "python",
   "name": "python3"
  },
  "language_info": {
   "codemirror_mode": {
    "name": "ipython",
    "version": 3
   },
   "file_extension": ".py",
   "mimetype": "text/x-python",
   "name": "python",
   "nbconvert_exporter": "python",
   "pygments_lexer": "ipython3",
   "version": "3.10.9"
  }
 },
 "nbformat": 4,
 "nbformat_minor": 5
}
