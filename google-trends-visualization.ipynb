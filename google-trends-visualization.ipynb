{
 "cells": [
  {
   "cell_type": "markdown",
   "id": "6e25b4b8",
   "metadata": {},
   "source": [
    "# Visualizando Dados (Google Trends)"
   ]
  },
  {
   "cell_type": "code",
   "execution_count": 1,
   "id": "d63fa8a0",
   "metadata": {},
   "outputs": [],
   "source": [
    "import pandas as pd\n",
    "window_size = 12\n",
    "\n",
    "trends = pd.read_csv(\"CSV/trends_all.csv\")\n",
    "trends['smoothed_relative_interest'] = trends.groupby('project')['relative_interest'].transform(lambda x: x.rolling(window=window_size, min_periods = 2).mean())"
   ]
  },
  {
   "cell_type": "code",
   "execution_count": 2,
   "id": "d7c0dd3d",
   "metadata": {
    "scrolled": false
   },
   "outputs": [
    {
     "data": {
      "application/vnd.jupyter.widget-view+json": {
       "model_id": "fca85374c8d946739f82dde3f959ae49",
       "version_major": 2,
       "version_minor": 0
      },
      "text/plain": [
       "interactive(children=(SelectMultiple(description='Projetos', index=(0, 1, 2, 3, 4, 5, 6, 7, 8, 9, 10, 11, 12, …"
      ]
     },
     "metadata": {},
     "output_type": "display_data"
    },
    {
     "data": {
      "text/plain": [
       "<function __main__.update_plot(project_list)>"
      ]
     },
     "execution_count": 2,
     "metadata": {},
     "output_type": "execute_result"
    }
   ],
   "source": [
    "import matplotlib.pyplot as plt\n",
    "import matplotlib.dates as mdates\n",
    "from ipywidgets import interact, widgets\n",
    "\n",
    "trends[\"date\"] = pd.to_datetime(trends[\"date\"])\n",
    "\n",
    "def update_plot(project_list):\n",
    "    plt.figure(figsize=(10, 5))\n",
    "\n",
    "    for project in project_list:\n",
    "        data = trends[trends[\"project\"] == project]\n",
    "        plt.plot(data['date'], data['smoothed_relative_interest'], linestyle='-', label=project)\n",
    "\n",
    "    plt.xlabel('Data')\n",
    "    plt.ylabel('Interesse Relativo')\n",
    "    plt.gca().xaxis.set_major_locator(mdates.MonthLocator(interval=4))\n",
    "    plt.gca().xaxis.set_major_formatter(mdates.DateFormatter('%b %Y'))\n",
    "    plt.title('Interesse Relativo ao longo do Tempo')\n",
    "    plt.xticks(rotation=90)\n",
    "    plt.legend()\n",
    "    plt.tight_layout()\n",
    "    plt.show()\n",
    "\n",
    "project_options = trends['project'].unique()\n",
    "\n",
    "initial_value = tuple(project_options)\n",
    "\n",
    "project_selector = widgets.SelectMultiple(\n",
    "    options=project_options,\n",
    "    value=initial_value,\n",
    "    description='Projetos'\n",
    ")\n",
    "\n",
    "interact(update_plot, project_list=project_selector)\n"
   ]
  },
  {
   "cell_type": "code",
   "execution_count": null,
   "id": "1ee8c001",
   "metadata": {},
   "outputs": [],
   "source": []
  }
 ],
 "metadata": {
  "kernelspec": {
   "display_name": "Python 3 (ipykernel)",
   "language": "python",
   "name": "python3"
  },
  "language_info": {
   "codemirror_mode": {
    "name": "ipython",
    "version": 3
   },
   "file_extension": ".py",
   "mimetype": "text/x-python",
   "name": "python",
   "nbconvert_exporter": "python",
   "pygments_lexer": "ipython3",
   "version": "3.10.9"
  }
 },
 "nbformat": 4,
 "nbformat_minor": 5
}
